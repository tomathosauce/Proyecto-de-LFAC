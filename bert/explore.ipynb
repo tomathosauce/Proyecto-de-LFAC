{
 "cells": [
  {
   "cell_type": "code",
   "execution_count": 1,
   "metadata": {},
   "outputs": [],
   "source": [
    "import numpy as np\n",
    "import tensorflow as tf\n",
    "import pandas as pd"
   ]
  },
  {
   "cell_type": "code",
   "execution_count": 2,
   "metadata": {},
   "outputs": [
    {
     "data": {
      "text/html": [
       "<div>\n",
       "<style scoped>\n",
       "    .dataframe tbody tr th:only-of-type {\n",
       "        vertical-align: middle;\n",
       "    }\n",
       "\n",
       "    .dataframe tbody tr th {\n",
       "        vertical-align: top;\n",
       "    }\n",
       "\n",
       "    .dataframe thead th {\n",
       "        text-align: right;\n",
       "    }\n",
       "</style>\n",
       "<table border=\"1\" class=\"dataframe\">\n",
       "  <thead>\n",
       "    <tr style=\"text-align: right;\">\n",
       "      <th></th>\n",
       "      <th>sentence</th>\n",
       "      <th>label</th>\n",
       "    </tr>\n",
       "  </thead>\n",
       "  <tbody>\n",
       "    <tr>\n",
       "      <th>0</th>\n",
       "      <td>[ NUMERO NUMERO NUMERO IDENTIF NUMERO IDENTIF ...</td>\n",
       "      <td>1</td>\n",
       "    </tr>\n",
       "    <tr>\n",
       "      <th>1</th>\n",
       "      <td>IDENTIF + IDENTIF * [ IDENTIF IDENTIF IDENTIF ...</td>\n",
       "      <td>1</td>\n",
       "    </tr>\n",
       "    <tr>\n",
       "      <th>2</th>\n",
       "      <td>[ IDENTIF ] / NUMERO / [ NUMERO NUMERO * ] + (...</td>\n",
       "      <td>1</td>\n",
       "    </tr>\n",
       "    <tr>\n",
       "      <th>3</th>\n",
       "      <td>[ IDENTIF NUMERO / IDENTIF * ] - IDENTIF - NUM...</td>\n",
       "      <td>1</td>\n",
       "    </tr>\n",
       "    <tr>\n",
       "      <th>4</th>\n",
       "      <td>IDENTIF + [ IDENTIF NUMERO IDENTIF - NUMERO NU...</td>\n",
       "      <td>1</td>\n",
       "    </tr>\n",
       "    <tr>\n",
       "      <th>...</th>\n",
       "      <td>...</td>\n",
       "      <td>...</td>\n",
       "    </tr>\n",
       "    <tr>\n",
       "      <th>9995</th>\n",
       "      <td>( IDENTIF - [ NUMERO ] ) * ( ( IDENTIF ) ) - (...</td>\n",
       "      <td>0</td>\n",
       "    </tr>\n",
       "    <tr>\n",
       "      <th>9996</th>\n",
       "      <td>( NUMERO - ( [ IDENTIF ] ) / NUMERO - [ NUMERO...</td>\n",
       "      <td>0</td>\n",
       "    </tr>\n",
       "    <tr>\n",
       "      <th>9997</th>\n",
       "      <td>[ IDENTIF IDENTIF - IDENTIF IDENTIF * NUMERO I...</td>\n",
       "      <td>0</td>\n",
       "    </tr>\n",
       "    <tr>\n",
       "      <th>9998</th>\n",
       "      <td>( IDENTIF + IDENTIF / [ IDENTIF ] / ( NUMERO )...</td>\n",
       "      <td>0</td>\n",
       "    </tr>\n",
       "    <tr>\n",
       "      <th>9999</th>\n",
       "      <td>[ IDENTIF NUMERO * IDENTIF / NUMERO + NUMERO N...</td>\n",
       "      <td>0</td>\n",
       "    </tr>\n",
       "  </tbody>\n",
       "</table>\n",
       "<p>20000 rows × 2 columns</p>\n",
       "</div>"
      ],
      "text/plain": [
       "                                               sentence  label\n",
       "0     [ NUMERO NUMERO NUMERO IDENTIF NUMERO IDENTIF ...      1\n",
       "1     IDENTIF + IDENTIF * [ IDENTIF IDENTIF IDENTIF ...      1\n",
       "2     [ IDENTIF ] / NUMERO / [ NUMERO NUMERO * ] + (...      1\n",
       "3     [ IDENTIF NUMERO / IDENTIF * ] - IDENTIF - NUM...      1\n",
       "4     IDENTIF + [ IDENTIF NUMERO IDENTIF - NUMERO NU...      1\n",
       "...                                                 ...    ...\n",
       "9995  ( IDENTIF - [ NUMERO ] ) * ( ( IDENTIF ) ) - (...      0\n",
       "9996  ( NUMERO - ( [ IDENTIF ] ) / NUMERO - [ NUMERO...      0\n",
       "9997  [ IDENTIF IDENTIF - IDENTIF IDENTIF * NUMERO I...      0\n",
       "9998  ( IDENTIF + IDENTIF / [ IDENTIF ] / ( NUMERO )...      0\n",
       "9999  [ IDENTIF NUMERO * IDENTIF / NUMERO + NUMERO N...      0\n",
       "\n",
       "[20000 rows x 2 columns]"
      ]
     },
     "execution_count": 2,
     "metadata": {},
     "output_type": "execute_result"
    }
   ],
   "source": [
    "good = pd.read_csv('./good.csv')\n",
    "bad = pd.read_csv('./bad.csv')\n",
    "\n",
    "dataset = pd.concat([good, bad], axis=0)\n",
    "dataset"
   ]
  },
  {
   "cell_type": "code",
   "execution_count": 3,
   "metadata": {},
   "outputs": [
    {
     "data": {
      "text/plain": [
       "<TensorSliceDataset element_spec=(TensorSpec(shape=(), dtype=tf.string, name=None), TensorSpec(shape=(), dtype=tf.int32, name=None))>"
      ]
     },
     "execution_count": 3,
     "metadata": {},
     "output_type": "execute_result"
    }
   ],
   "source": [
    "t_labels = tf.constant(dataset['label'], dtype=tf.int32)\n",
    "t_sentences = tf.constant(dataset['sentence'], dtype=tf.string)\n",
    "ds = tf.data.Dataset.from_tensor_slices((t_sentences, t_labels))\n",
    "ds"
   ]
  }
 ],
 "metadata": {
  "kernelspec": {
   "display_name": "nomi3",
   "language": "python",
   "name": "python3"
  },
  "language_info": {
   "codemirror_mode": {
    "name": "ipython",
    "version": 3
   },
   "file_extension": ".py",
   "mimetype": "text/x-python",
   "name": "python",
   "nbconvert_exporter": "python",
   "pygments_lexer": "ipython3",
   "version": "3.10.12"
  }
 },
 "nbformat": 4,
 "nbformat_minor": 2
}
