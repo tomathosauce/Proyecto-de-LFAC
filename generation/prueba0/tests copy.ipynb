{
 "cells": [
  {
   "cell_type": "code",
   "execution_count": 1,
   "metadata": {},
   "outputs": [],
   "source": [
    "import numpy as np\n",
    "import tensorflow as tf\n",
    "import pandas as pd"
   ]
  },
  {
   "cell_type": "code",
   "execution_count": 2,
   "metadata": {},
   "outputs": [
    {
     "data": {
      "text/html": [
       "<div>\n",
       "<style scoped>\n",
       "    .dataframe tbody tr th:only-of-type {\n",
       "        vertical-align: middle;\n",
       "    }\n",
       "\n",
       "    .dataframe tbody tr th {\n",
       "        vertical-align: top;\n",
       "    }\n",
       "\n",
       "    .dataframe thead th {\n",
       "        text-align: right;\n",
       "    }\n",
       "</style>\n",
       "<table border=\"1\" class=\"dataframe\">\n",
       "  <thead>\n",
       "    <tr style=\"text-align: right;\">\n",
       "      <th></th>\n",
       "      <th>sentence</th>\n",
       "      <th>label</th>\n",
       "    </tr>\n",
       "  </thead>\n",
       "  <tbody>\n",
       "    <tr>\n",
       "      <th>0</th>\n",
       "      <td>[ NUMERO NUMERO NUMERO IDENTIF NUMERO IDENTIF ...</td>\n",
       "      <td>1</td>\n",
       "    </tr>\n",
       "    <tr>\n",
       "      <th>1</th>\n",
       "      <td>IDENTIF + IDENTIF * [ IDENTIF IDENTIF IDENTIF ...</td>\n",
       "      <td>1</td>\n",
       "    </tr>\n",
       "    <tr>\n",
       "      <th>2</th>\n",
       "      <td>[ IDENTIF ] / NUMERO / [ NUMERO NUMERO * ] + (...</td>\n",
       "      <td>1</td>\n",
       "    </tr>\n",
       "    <tr>\n",
       "      <th>3</th>\n",
       "      <td>[ IDENTIF NUMERO / IDENTIF * ] - IDENTIF - NUM...</td>\n",
       "      <td>1</td>\n",
       "    </tr>\n",
       "    <tr>\n",
       "      <th>4</th>\n",
       "      <td>IDENTIF + [ IDENTIF NUMERO IDENTIF - NUMERO NU...</td>\n",
       "      <td>1</td>\n",
       "    </tr>\n",
       "    <tr>\n",
       "      <th>...</th>\n",
       "      <td>...</td>\n",
       "      <td>...</td>\n",
       "    </tr>\n",
       "    <tr>\n",
       "      <th>9995</th>\n",
       "      <td>( IDENTIF - [ NUMERO ] ) * ( ( IDENTIF ) ) - (...</td>\n",
       "      <td>0</td>\n",
       "    </tr>\n",
       "    <tr>\n",
       "      <th>9996</th>\n",
       "      <td>( NUMERO - ( [ IDENTIF ] ) / NUMERO - [ NUMERO...</td>\n",
       "      <td>0</td>\n",
       "    </tr>\n",
       "    <tr>\n",
       "      <th>9997</th>\n",
       "      <td>[ IDENTIF IDENTIF - IDENTIF IDENTIF * NUMERO I...</td>\n",
       "      <td>0</td>\n",
       "    </tr>\n",
       "    <tr>\n",
       "      <th>9998</th>\n",
       "      <td>( IDENTIF + IDENTIF / [ IDENTIF ] / ( NUMERO )...</td>\n",
       "      <td>0</td>\n",
       "    </tr>\n",
       "    <tr>\n",
       "      <th>9999</th>\n",
       "      <td>[ IDENTIF NUMERO * IDENTIF / NUMERO + NUMERO N...</td>\n",
       "      <td>0</td>\n",
       "    </tr>\n",
       "  </tbody>\n",
       "</table>\n",
       "<p>20000 rows × 2 columns</p>\n",
       "</div>"
      ],
      "text/plain": [
       "                                               sentence  label\n",
       "0     [ NUMERO NUMERO NUMERO IDENTIF NUMERO IDENTIF ...      1\n",
       "1     IDENTIF + IDENTIF * [ IDENTIF IDENTIF IDENTIF ...      1\n",
       "2     [ IDENTIF ] / NUMERO / [ NUMERO NUMERO * ] + (...      1\n",
       "3     [ IDENTIF NUMERO / IDENTIF * ] - IDENTIF - NUM...      1\n",
       "4     IDENTIF + [ IDENTIF NUMERO IDENTIF - NUMERO NU...      1\n",
       "...                                                 ...    ...\n",
       "9995  ( IDENTIF - [ NUMERO ] ) * ( ( IDENTIF ) ) - (...      0\n",
       "9996  ( NUMERO - ( [ IDENTIF ] ) / NUMERO - [ NUMERO...      0\n",
       "9997  [ IDENTIF IDENTIF - IDENTIF IDENTIF * NUMERO I...      0\n",
       "9998  ( IDENTIF + IDENTIF / [ IDENTIF ] / ( NUMERO )...      0\n",
       "9999  [ IDENTIF NUMERO * IDENTIF / NUMERO + NUMERO N...      0\n",
       "\n",
       "[20000 rows x 2 columns]"
      ]
     },
     "execution_count": 2,
     "metadata": {},
     "output_type": "execute_result"
    }
   ],
   "source": [
    "good = pd.read_csv('./good.csv')\n",
    "bad = pd.read_csv('./bad.csv')\n",
    "\n",
    "dataset = pd.concat([good, bad], axis=0)\n",
    "dataset"
   ]
  },
  {
   "cell_type": "code",
   "execution_count": 3,
   "metadata": {},
   "outputs": [
    {
     "data": {
      "text/plain": [
       "{'[': 1,\n",
       " 'NUMERO': 2,\n",
       " 'IDENTIF': 3,\n",
       " '/': 4,\n",
       " '+': 5,\n",
       " '*': 6,\n",
       " '-': 7,\n",
       " ']': 8,\n",
       " '(': 9,\n",
       " ')': 10}"
      ]
     },
     "execution_count": 3,
     "metadata": {},
     "output_type": "execute_result"
    }
   ],
   "source": [
    "#https://medium.com/analytics-vidhya/one-hot-encoding-of-text-data-in-natural-language-processing-2242fefb2148\n",
    "token_index = {}\n",
    "#Create a counter for counting the number of key-value pairs in the token_length\n",
    "counter = 0\n",
    "\n",
    "# Select the elements of the samples which are the two sentences\n",
    "for index, row in dataset.iterrows():\n",
    "    for considered_word in row['sentence'].split():\n",
    "        if considered_word not in token_index:\n",
    "            \n",
    "            # If the considered word is not present in the dictionary token_index, add it to the token_index\n",
    "            # The index of the word in the dictionary begins from 1 \n",
    "            token_index.update({considered_word : counter + 1}) \n",
    "            \n",
    "            # updating the value of counter\n",
    "            counter = counter + 1   \n",
    "\n",
    "token_index"
   ]
  },
  {
   "cell_type": "code",
   "execution_count": 4,
   "metadata": {},
   "outputs": [
    {
     "data": {
      "text/html": [
       "<div>\n",
       "<style scoped>\n",
       "    .dataframe tbody tr th:only-of-type {\n",
       "        vertical-align: middle;\n",
       "    }\n",
       "\n",
       "    .dataframe tbody tr th {\n",
       "        vertical-align: top;\n",
       "    }\n",
       "\n",
       "    .dataframe thead th {\n",
       "        text-align: right;\n",
       "    }\n",
       "</style>\n",
       "<table border=\"1\" class=\"dataframe\">\n",
       "  <thead>\n",
       "    <tr style=\"text-align: right;\">\n",
       "      <th></th>\n",
       "      <th>sentence</th>\n",
       "      <th>label</th>\n",
       "      <th>encode_index</th>\n",
       "      <th>encode</th>\n",
       "    </tr>\n",
       "  </thead>\n",
       "  <tbody>\n",
       "    <tr>\n",
       "      <th>0</th>\n",
       "      <td>[ NUMERO NUMERO NUMERO IDENTIF NUMERO IDENTIF ...</td>\n",
       "      <td>1</td>\n",
       "      <td>[1, 2, 2, 2, 3, 2, 3, 4, 4, 2, 2, 4, 2, 5, 6, ...</td>\n",
       "      <td>[[1, 0, 0, 0, 0, 0, 0, 0, 0, 0], [0, 1, 0, 0, ...</td>\n",
       "    </tr>\n",
       "    <tr>\n",
       "      <th>1</th>\n",
       "      <td>IDENTIF + IDENTIF * [ IDENTIF IDENTIF IDENTIF ...</td>\n",
       "      <td>1</td>\n",
       "      <td>[3, 5, 3, 6, 1, 3, 3, 3, 2, 2, 6, 6, 2, 2, 5, ...</td>\n",
       "      <td>[[0, 0, 1, 0, 0, 0, 0, 0, 0, 0], [0, 0, 0, 0, ...</td>\n",
       "    </tr>\n",
       "    <tr>\n",
       "      <th>2</th>\n",
       "      <td>[ IDENTIF ] / NUMERO / [ NUMERO NUMERO * ] + (...</td>\n",
       "      <td>1</td>\n",
       "      <td>[1, 3, 8, 4, 2, 4, 1, 2, 2, 6, 8, 5, 9, 1, 3, ...</td>\n",
       "      <td>[[1, 0, 0, 0, 0, 0, 0, 0, 0, 0], [0, 0, 1, 0, ...</td>\n",
       "    </tr>\n",
       "    <tr>\n",
       "      <th>3</th>\n",
       "      <td>[ IDENTIF NUMERO / IDENTIF * ] - IDENTIF - NUM...</td>\n",
       "      <td>1</td>\n",
       "      <td>[1, 3, 2, 4, 3, 6, 8, 7, 3, 7, 2, 4, 1, 2, 3, ...</td>\n",
       "      <td>[[1, 0, 0, 0, 0, 0, 0, 0, 0, 0], [0, 0, 1, 0, ...</td>\n",
       "    </tr>\n",
       "    <tr>\n",
       "      <th>4</th>\n",
       "      <td>IDENTIF + [ IDENTIF NUMERO IDENTIF - NUMERO NU...</td>\n",
       "      <td>1</td>\n",
       "      <td>[3, 5, 1, 3, 2, 3, 7, 2, 2, 4, 3, 7, 3, 5, 7, ...</td>\n",
       "      <td>[[0, 0, 1, 0, 0, 0, 0, 0, 0, 0], [0, 0, 0, 0, ...</td>\n",
       "    </tr>\n",
       "    <tr>\n",
       "      <th>...</th>\n",
       "      <td>...</td>\n",
       "      <td>...</td>\n",
       "      <td>...</td>\n",
       "      <td>...</td>\n",
       "    </tr>\n",
       "    <tr>\n",
       "      <th>9995</th>\n",
       "      <td>( IDENTIF - [ NUMERO ] ) * ( ( IDENTIF ) ) - (...</td>\n",
       "      <td>0</td>\n",
       "      <td>[9, 3, 7, 1, 2, 8, 10, 6, 9, 9, 3, 10, 10, 7, ...</td>\n",
       "      <td>[[0, 0, 0, 0, 0, 0, 0, 0, 1, 0], [0, 0, 1, 0, ...</td>\n",
       "    </tr>\n",
       "    <tr>\n",
       "      <th>9996</th>\n",
       "      <td>( NUMERO - ( [ IDENTIF ] ) / NUMERO - [ NUMERO...</td>\n",
       "      <td>0</td>\n",
       "      <td>[9, 2, 7, 9, 1, 3, 8, 10, 4, 2, 7, 1, 2, 3, 4,...</td>\n",
       "      <td>[[0, 0, 0, 0, 0, 0, 0, 0, 1, 0], [0, 1, 0, 0, ...</td>\n",
       "    </tr>\n",
       "    <tr>\n",
       "      <th>9997</th>\n",
       "      <td>[ IDENTIF IDENTIF - IDENTIF IDENTIF * NUMERO I...</td>\n",
       "      <td>0</td>\n",
       "      <td>[1, 3, 3, 7, 3, 3, 6, 2, 3, 3, 2, 2, 5, 4, 7, ...</td>\n",
       "      <td>[[1, 0, 0, 0, 0, 0, 0, 0, 0, 0], [0, 0, 1, 0, ...</td>\n",
       "    </tr>\n",
       "    <tr>\n",
       "      <th>9998</th>\n",
       "      <td>( IDENTIF + IDENTIF / [ IDENTIF ] / ( NUMERO )...</td>\n",
       "      <td>0</td>\n",
       "      <td>[9, 3, 5, 3, 4, 1, 3, 8, 4, 9, 2, 10, 7, 1, 3,...</td>\n",
       "      <td>[[0, 0, 0, 0, 0, 0, 0, 0, 1, 0], [0, 0, 1, 0, ...</td>\n",
       "    </tr>\n",
       "    <tr>\n",
       "      <th>9999</th>\n",
       "      <td>[ IDENTIF NUMERO * IDENTIF / NUMERO + NUMERO N...</td>\n",
       "      <td>0</td>\n",
       "      <td>[1, 3, 2, 6, 3, 4, 2, 5, 2, 2, 2, 2, 6, 7, 3, ...</td>\n",
       "      <td>[[1, 0, 0, 0, 0, 0, 0, 0, 0, 0], [0, 0, 1, 0, ...</td>\n",
       "    </tr>\n",
       "  </tbody>\n",
       "</table>\n",
       "<p>20000 rows × 4 columns</p>\n",
       "</div>"
      ],
      "text/plain": [
       "                                               sentence  label  \\\n",
       "0     [ NUMERO NUMERO NUMERO IDENTIF NUMERO IDENTIF ...      1   \n",
       "1     IDENTIF + IDENTIF * [ IDENTIF IDENTIF IDENTIF ...      1   \n",
       "2     [ IDENTIF ] / NUMERO / [ NUMERO NUMERO * ] + (...      1   \n",
       "3     [ IDENTIF NUMERO / IDENTIF * ] - IDENTIF - NUM...      1   \n",
       "4     IDENTIF + [ IDENTIF NUMERO IDENTIF - NUMERO NU...      1   \n",
       "...                                                 ...    ...   \n",
       "9995  ( IDENTIF - [ NUMERO ] ) * ( ( IDENTIF ) ) - (...      0   \n",
       "9996  ( NUMERO - ( [ IDENTIF ] ) / NUMERO - [ NUMERO...      0   \n",
       "9997  [ IDENTIF IDENTIF - IDENTIF IDENTIF * NUMERO I...      0   \n",
       "9998  ( IDENTIF + IDENTIF / [ IDENTIF ] / ( NUMERO )...      0   \n",
       "9999  [ IDENTIF NUMERO * IDENTIF / NUMERO + NUMERO N...      0   \n",
       "\n",
       "                                           encode_index  \\\n",
       "0     [1, 2, 2, 2, 3, 2, 3, 4, 4, 2, 2, 4, 2, 5, 6, ...   \n",
       "1     [3, 5, 3, 6, 1, 3, 3, 3, 2, 2, 6, 6, 2, 2, 5, ...   \n",
       "2     [1, 3, 8, 4, 2, 4, 1, 2, 2, 6, 8, 5, 9, 1, 3, ...   \n",
       "3     [1, 3, 2, 4, 3, 6, 8, 7, 3, 7, 2, 4, 1, 2, 3, ...   \n",
       "4     [3, 5, 1, 3, 2, 3, 7, 2, 2, 4, 3, 7, 3, 5, 7, ...   \n",
       "...                                                 ...   \n",
       "9995  [9, 3, 7, 1, 2, 8, 10, 6, 9, 9, 3, 10, 10, 7, ...   \n",
       "9996  [9, 2, 7, 9, 1, 3, 8, 10, 4, 2, 7, 1, 2, 3, 4,...   \n",
       "9997  [1, 3, 3, 7, 3, 3, 6, 2, 3, 3, 2, 2, 5, 4, 7, ...   \n",
       "9998  [9, 3, 5, 3, 4, 1, 3, 8, 4, 9, 2, 10, 7, 1, 3,...   \n",
       "9999  [1, 3, 2, 6, 3, 4, 2, 5, 2, 2, 2, 2, 6, 7, 3, ...   \n",
       "\n",
       "                                                 encode  \n",
       "0     [[1, 0, 0, 0, 0, 0, 0, 0, 0, 0], [0, 1, 0, 0, ...  \n",
       "1     [[0, 0, 1, 0, 0, 0, 0, 0, 0, 0], [0, 0, 0, 0, ...  \n",
       "2     [[1, 0, 0, 0, 0, 0, 0, 0, 0, 0], [0, 0, 1, 0, ...  \n",
       "3     [[1, 0, 0, 0, 0, 0, 0, 0, 0, 0], [0, 0, 1, 0, ...  \n",
       "4     [[0, 0, 1, 0, 0, 0, 0, 0, 0, 0], [0, 0, 0, 0, ...  \n",
       "...                                                 ...  \n",
       "9995  [[0, 0, 0, 0, 0, 0, 0, 0, 1, 0], [0, 0, 1, 0, ...  \n",
       "9996  [[0, 0, 0, 0, 0, 0, 0, 0, 1, 0], [0, 1, 0, 0, ...  \n",
       "9997  [[1, 0, 0, 0, 0, 0, 0, 0, 0, 0], [0, 0, 1, 0, ...  \n",
       "9998  [[0, 0, 0, 0, 0, 0, 0, 0, 1, 0], [0, 0, 1, 0, ...  \n",
       "9999  [[1, 0, 0, 0, 0, 0, 0, 0, 0, 0], [0, 0, 1, 0, ...  \n",
       "\n",
       "[20000 rows x 4 columns]"
      ]
     },
     "execution_count": 4,
     "metadata": {},
     "output_type": "execute_result"
    }
   ],
   "source": [
    "def generate_onehot(size, index):\n",
    "    z = [0 for x in range(size)]\n",
    "    z[index] = 1\n",
    "    # return np.asarray(z).astype(np.int32)\n",
    "    return z\n",
    "\n",
    "def encode_index(row, _token_index):\n",
    "    return [_token_index[token] for token in row['sentence'].split()]\n",
    "\n",
    "def encode_onehot(row, _token_index):\n",
    "    length = len(_token_index)\n",
    "    return [generate_onehot(length, _token_index[token]  - 1) for token in row['sentence'].split()]\n",
    "    # return np.array([generate_onehot(length, _token_index[token]  - 1) for token in row['sentence'].split()])\n",
    "\n",
    "dataset['encode_index'] = dataset.apply(lambda row: encode_index(row, token_index), axis=1)\n",
    "dataset['encode'] = dataset.apply(lambda row: encode_onehot(row, token_index), axis=1)\n",
    "\n",
    "dataset"
   ]
  },
  {
   "cell_type": "code",
   "execution_count": 5,
   "metadata": {},
   "outputs": [],
   "source": [
    "max_length = len(max(dataset['encode'], key=len))"
   ]
  },
  {
   "cell_type": "code",
   "execution_count": 6,
   "metadata": {},
   "outputs": [
    {
     "data": {
      "text/html": [
       "<div>\n",
       "<style scoped>\n",
       "    .dataframe tbody tr th:only-of-type {\n",
       "        vertical-align: middle;\n",
       "    }\n",
       "\n",
       "    .dataframe tbody tr th {\n",
       "        vertical-align: top;\n",
       "    }\n",
       "\n",
       "    .dataframe thead th {\n",
       "        text-align: right;\n",
       "    }\n",
       "</style>\n",
       "<table border=\"1\" class=\"dataframe\">\n",
       "  <thead>\n",
       "    <tr style=\"text-align: right;\">\n",
       "      <th></th>\n",
       "      <th>sentence</th>\n",
       "      <th>label</th>\n",
       "      <th>encode_index</th>\n",
       "      <th>encode</th>\n",
       "    </tr>\n",
       "  </thead>\n",
       "  <tbody>\n",
       "    <tr>\n",
       "      <th>6467</th>\n",
       "      <td>IDENTIF + [ NUMERO NUMERO IDENTIF * NUMERO + I...</td>\n",
       "      <td>0</td>\n",
       "      <td>[3, 5, 1, 2, 2, 3, 6, 2, 5, 3, 7, 5, 8, 7, 2, ...</td>\n",
       "      <td>[[0, 0, 1, 0, 0, 0, 0, 0, 0, 0], [0, 0, 0, 0, ...</td>\n",
       "    </tr>\n",
       "    <tr>\n",
       "      <th>89</th>\n",
       "      <td>[ NUMERO ] * NUMERO -</td>\n",
       "      <td>0</td>\n",
       "      <td>[1, 2, 8, 6, 2, 7]</td>\n",
       "      <td>[[1, 0, 0, 0, 0, 0, 0, 0, 0, 0], [0, 1, 0, 0, ...</td>\n",
       "    </tr>\n",
       "    <tr>\n",
       "      <th>4034</th>\n",
       "      <td>NUMERO * ( [ NUMERO ] ) / NUMERO + NUMERO</td>\n",
       "      <td>1</td>\n",
       "      <td>[2, 6, 9, 1, 2, 8, 10, 4, 2, 5, 2]</td>\n",
       "      <td>[[0, 1, 0, 0, 0, 0, 0, 0, 0, 0], [0, 0, 0, 0, ...</td>\n",
       "    </tr>\n",
       "    <tr>\n",
       "      <th>6825</th>\n",
       "      <td>( NUMERO ) + ]</td>\n",
       "      <td>0</td>\n",
       "      <td>[9, 2, 10, 5, 8]</td>\n",
       "      <td>[[0, 0, 0, 0, 0, 0, 0, 0, 1, 0], [0, 1, 0, 0, ...</td>\n",
       "    </tr>\n",
       "    <tr>\n",
       "      <th>3221</th>\n",
       "      <td>( ( [ IDENTIF NUMERO / IDENTIF IDENTIF NUMERO ...</td>\n",
       "      <td>1</td>\n",
       "      <td>[9, 9, 1, 3, 2, 4, 3, 3, 2, 2, 3, 3, 4, 2, 4, ...</td>\n",
       "      <td>[[0, 0, 0, 0, 0, 0, 0, 0, 1, 0], [0, 0, 0, 0, ...</td>\n",
       "    </tr>\n",
       "    <tr>\n",
       "      <th>...</th>\n",
       "      <td>...</td>\n",
       "      <td>...</td>\n",
       "      <td>...</td>\n",
       "      <td>...</td>\n",
       "    </tr>\n",
       "    <tr>\n",
       "      <th>9555</th>\n",
       "      <td>[ IDENTIF NUMERO IDENTIF - / / NUMERO + IDENTI...</td>\n",
       "      <td>0</td>\n",
       "      <td>[1, 3, 2, 3, 7, 4, 4, 2, 5, 3, 3, 5, 5, 3, 3, ...</td>\n",
       "      <td>[[1, 0, 0, 0, 0, 0, 0, 0, 0, 0], [0, 0, 1, 0, ...</td>\n",
       "    </tr>\n",
       "    <tr>\n",
       "      <th>6604</th>\n",
       "      <td>NUMERO + [ IDENTIF IDENTIF IDENTIF IDENTIF - I...</td>\n",
       "      <td>1</td>\n",
       "      <td>[2, 5, 1, 3, 3, 3, 3, 7, 3, 7, 6, 3, 6, 3, 4, ...</td>\n",
       "      <td>[[0, 1, 0, 0, 0, 0, 0, 0, 0, 0], [0, 0, 0, 0, ...</td>\n",
       "    </tr>\n",
       "    <tr>\n",
       "      <th>1175</th>\n",
       "      <td>( * ( [ NUMERO IDENTIF / ] / NUMERO * NUMERO )...</td>\n",
       "      <td>0</td>\n",
       "      <td>[9, 6, 9, 1, 2, 3, 4, 8, 4, 2, 6, 2, 10, 5, 3,...</td>\n",
       "      <td>[[0, 0, 0, 0, 0, 0, 0, 0, 1, 0], [0, 0, 0, 0, ...</td>\n",
       "    </tr>\n",
       "    <tr>\n",
       "      <th>4633</th>\n",
       "      <td>IDENTIF * ( NUMERO * [ IDENTIF ] ) * IDENTIF /...</td>\n",
       "      <td>1</td>\n",
       "      <td>[3, 6, 9, 2, 6, 1, 3, 8, 10, 6, 3, 4, 2, 6, 9,...</td>\n",
       "      <td>[[0, 0, 1, 0, 0, 0, 0, 0, 0, 0], [0, 0, 0, 0, ...</td>\n",
       "    </tr>\n",
       "    <tr>\n",
       "      <th>8176</th>\n",
       "      <td>[ NUMERO NUMERO + ] - NUMERO * ( IDENTIF - IDE...</td>\n",
       "      <td>1</td>\n",
       "      <td>[1, 2, 2, 5, 8, 7, 2, 6, 9, 3, 7, 3, 7, 3, 7, ...</td>\n",
       "      <td>[[1, 0, 0, 0, 0, 0, 0, 0, 0, 0], [0, 1, 0, 0, ...</td>\n",
       "    </tr>\n",
       "  </tbody>\n",
       "</table>\n",
       "<p>20000 rows × 4 columns</p>\n",
       "</div>"
      ],
      "text/plain": [
       "                                               sentence  label  \\\n",
       "6467  IDENTIF + [ NUMERO NUMERO IDENTIF * NUMERO + I...      0   \n",
       "89                                [ NUMERO ] * NUMERO -      0   \n",
       "4034          NUMERO * ( [ NUMERO ] ) / NUMERO + NUMERO      1   \n",
       "6825                                     ( NUMERO ) + ]      0   \n",
       "3221  ( ( [ IDENTIF NUMERO / IDENTIF IDENTIF NUMERO ...      1   \n",
       "...                                                 ...    ...   \n",
       "9555  [ IDENTIF NUMERO IDENTIF - / / NUMERO + IDENTI...      0   \n",
       "6604  NUMERO + [ IDENTIF IDENTIF IDENTIF IDENTIF - I...      1   \n",
       "1175  ( * ( [ NUMERO IDENTIF / ] / NUMERO * NUMERO )...      0   \n",
       "4633  IDENTIF * ( NUMERO * [ IDENTIF ] ) * IDENTIF /...      1   \n",
       "8176  [ NUMERO NUMERO + ] - NUMERO * ( IDENTIF - IDE...      1   \n",
       "\n",
       "                                           encode_index  \\\n",
       "6467  [3, 5, 1, 2, 2, 3, 6, 2, 5, 3, 7, 5, 8, 7, 2, ...   \n",
       "89                                   [1, 2, 8, 6, 2, 7]   \n",
       "4034                 [2, 6, 9, 1, 2, 8, 10, 4, 2, 5, 2]   \n",
       "6825                                   [9, 2, 10, 5, 8]   \n",
       "3221  [9, 9, 1, 3, 2, 4, 3, 3, 2, 2, 3, 3, 4, 2, 4, ...   \n",
       "...                                                 ...   \n",
       "9555  [1, 3, 2, 3, 7, 4, 4, 2, 5, 3, 3, 5, 5, 3, 3, ...   \n",
       "6604  [2, 5, 1, 3, 3, 3, 3, 7, 3, 7, 6, 3, 6, 3, 4, ...   \n",
       "1175  [9, 6, 9, 1, 2, 3, 4, 8, 4, 2, 6, 2, 10, 5, 3,...   \n",
       "4633  [3, 6, 9, 2, 6, 1, 3, 8, 10, 6, 3, 4, 2, 6, 9,...   \n",
       "8176  [1, 2, 2, 5, 8, 7, 2, 6, 9, 3, 7, 3, 7, 3, 7, ...   \n",
       "\n",
       "                                                 encode  \n",
       "6467  [[0, 0, 1, 0, 0, 0, 0, 0, 0, 0], [0, 0, 0, 0, ...  \n",
       "89    [[1, 0, 0, 0, 0, 0, 0, 0, 0, 0], [0, 1, 0, 0, ...  \n",
       "4034  [[0, 1, 0, 0, 0, 0, 0, 0, 0, 0], [0, 0, 0, 0, ...  \n",
       "6825  [[0, 0, 0, 0, 0, 0, 0, 0, 1, 0], [0, 1, 0, 0, ...  \n",
       "3221  [[0, 0, 0, 0, 0, 0, 0, 0, 1, 0], [0, 0, 0, 0, ...  \n",
       "...                                                 ...  \n",
       "9555  [[1, 0, 0, 0, 0, 0, 0, 0, 0, 0], [0, 0, 1, 0, ...  \n",
       "6604  [[0, 1, 0, 0, 0, 0, 0, 0, 0, 0], [0, 0, 0, 0, ...  \n",
       "1175  [[0, 0, 0, 0, 0, 0, 0, 0, 1, 0], [0, 0, 0, 0, ...  \n",
       "4633  [[0, 0, 1, 0, 0, 0, 0, 0, 0, 0], [0, 0, 0, 0, ...  \n",
       "8176  [[1, 0, 0, 0, 0, 0, 0, 0, 0, 0], [0, 1, 0, 0, ...  \n",
       "\n",
       "[20000 rows x 4 columns]"
      ]
     },
     "execution_count": 6,
     "metadata": {},
     "output_type": "execute_result"
    }
   ],
   "source": [
    "shuffled = dataset.sample(frac=1)\n",
    "shuffled"
   ]
  },
  {
   "cell_type": "code",
   "execution_count": 7,
   "metadata": {},
   "outputs": [
    {
     "data": {
      "text/plain": [
       "98"
      ]
     },
     "execution_count": 7,
     "metadata": {},
     "output_type": "execute_result"
    }
   ],
   "source": [
    "from tensorflow.keras.preprocessing.sequence import pad_sequences\n",
    "\n",
    "# Pad sequences with zero vectors\n",
    "padded_data = pad_sequences(shuffled['encode'], maxlen=max_length, padding='post')\n",
    "len(padded_data[0])"
   ]
  },
  {
   "cell_type": "code",
   "execution_count": 8,
   "metadata": {},
   "outputs": [
    {
     "data": {
      "text/plain": [
       "(TensorSpec(shape=(98, 10), dtype=tf.int32, name=None),\n",
       " TensorSpec(shape=(), dtype=tf.int32, name=None))"
      ]
     },
     "execution_count": 8,
     "metadata": {},
     "output_type": "execute_result"
    }
   ],
   "source": [
    "# list_of_tuples = shuffled.apply(lambda row: (row['encoded'], row['label']), axis=1).tolist()\n",
    "# list_of_tuples\n",
    "\n",
    "tensor2 = tf.constant(shuffled['label'], dtype=tf.int32)\n",
    "\n",
    "data=tf.convert_to_tensor(padded_data)\n",
    "# data\n",
    "ds = tf.data.Dataset.from_tensor_slices((padded_data, tensor2))\n",
    "\n",
    "ds.element_spec\n",
    "# combined = (tensor1, tensor2)\n",
    "# combined"
   ]
  },
  {
   "cell_type": "code",
   "execution_count": 9,
   "metadata": {},
   "outputs": [
    {
     "data": {
      "text/plain": [
       "20000"
      ]
     },
     "execution_count": 9,
     "metadata": {},
     "output_type": "execute_result"
    }
   ],
   "source": [
    "ds.cardinality().numpy()"
   ]
  },
  {
   "cell_type": "code",
   "execution_count": 38,
   "metadata": {},
   "outputs": [
    {
     "data": {
      "text/plain": [
       "<TensorSliceDataset element_spec=(TensorSpec(shape=(98, 10), dtype=tf.int32, name=None), TensorSpec(shape=(), dtype=tf.int32, name=None))>"
      ]
     },
     "execution_count": 38,
     "metadata": {},
     "output_type": "execute_result"
    }
   ],
   "source": [
    "dsb= ds\n",
    "dsb"
   ]
  },
  {
   "cell_type": "code",
   "execution_count": 67,
   "metadata": {},
   "outputs": [
    {
     "data": {
      "text/plain": [
       "<BatchDataset element_spec=(TensorSpec(shape=(None, 98, 10), dtype=tf.int32, name=None), TensorSpec(shape=(None,), dtype=tf.int32, name=None))>"
      ]
     },
     "execution_count": 67,
     "metadata": {},
     "output_type": "execute_result"
    }
   ],
   "source": [
    "BATCH_SIZE = 32\n",
    "\n",
    "length = len(shuffled)\n",
    "test_ds_size = int(length * 0.2) # 20 percent of length of ds\n",
    "train_ds = dsb.skip(test_ds_size).batch(BATCH_SIZE)\n",
    "test_ds = dsb.take(test_ds_size).batch(BATCH_SIZE)\n",
    "\n",
    "train_ds"
   ]
  },
  {
   "cell_type": "code",
   "execution_count": 68,
   "metadata": {},
   "outputs": [
    {
     "data": {
      "text/plain": [
       "(None, 98, 10)"
      ]
     },
     "execution_count": 68,
     "metadata": {},
     "output_type": "execute_result"
    }
   ],
   "source": [
    "i_shape = tuple(train_ds.element_spec[0].shape)\n",
    "i_shape"
   ]
  },
  {
   "cell_type": "code",
   "execution_count": 76,
   "metadata": {},
   "outputs": [],
   "source": [
    "from tensorflow.keras.models import Sequential\n",
    "from tensorflow.keras.layers import LSTM, Dense\n",
    "\n",
    "model = Sequential()\n",
    "# model.add(LSTM(units=512, return_sequences=True, input_shape=( i_shape[1], i_shape[2])))\n",
    "model.add(tf.keras.layers.Bidirectional(tf.keras.layers.LSTM(64, input_shape=(i_shape[1], i_shape[2]))),)\n",
    "# model.add(tf.keras.layers.Dense(64, activation='relu'))\n",
    "# model.add(tf.keras.layers.Dropout(0.5))\n",
    "# model.add(tf.keras.layers.Dense(1))\n",
    "\n",
    "model.add(Dense(units=1, activation='relu'))\n",
    "model.compile(loss='mean_squared_error', optimizer='adam', run_eagerly=True, metrics='accuracy')\n"
   ]
  },
  {
   "cell_type": "code",
   "execution_count": 77,
   "metadata": {},
   "outputs": [
    {
     "name": "stdout",
     "output_type": "stream",
     "text": [
      "[True, True]\n"
     ]
    }
   ],
   "source": [
    "print([layer.supports_masking for layer in model.layers])"
   ]
  },
  {
   "cell_type": "code",
   "execution_count": 78,
   "metadata": {},
   "outputs": [
    {
     "name": "stdout",
     "output_type": "stream",
     "text": [
      "Epoch 1/10\n"
     ]
    },
    {
     "ename": "InvalidArgumentError",
     "evalue": "Exception encountered when calling layer \"forward_lstm_32\" \"                 f\"(type LSTM).\n\nValue for attr 'T' of int32 is not in the list of allowed values: half, float, double\n\t; NodeDef: {{node CudnnRNN}}; Op<name=CudnnRNN; signature=input:T, input_h:T, input_c:T, params:T -> output:T, output_h:T, output_c:T, reserve_space:T; attr=T:type,allowed=[DT_HALF, DT_FLOAT, DT_DOUBLE]; attr=rnn_mode:string,default=\"lstm\",allowed=[\"rnn_relu\", \"rnn_tanh\", \"lstm\", \"gru\"]; attr=input_mode:string,default=\"linear_input\",allowed=[\"linear_input\", \"skip_input\", \"auto_select\"]; attr=direction:string,default=\"unidirectional\",allowed=[\"unidirectional\", \"bidirectional\"]; attr=dropout:float,default=0; attr=seed:int,default=0; attr=seed2:int,default=0; attr=is_training:bool,default=true; is_stateful=true> [Op:CudnnRNN]\n\nCall arguments received by layer \"forward_lstm_32\" \"                 f\"(type LSTM):\n  • inputs=tf.Tensor(shape=(32, 98, 10), dtype=int32)\n  • mask=None\n  • training=True\n  • initial_state=None",
     "output_type": "error",
     "traceback": [
      "\u001b[1;31m---------------------------------------------------------------------------\u001b[0m",
      "\u001b[1;31mInvalidArgumentError\u001b[0m                      Traceback (most recent call last)",
      "Cell \u001b[1;32mIn [78], line 1\u001b[0m\n\u001b[1;32m----> 1\u001b[0m history \u001b[38;5;241m=\u001b[39m \u001b[43mmodel\u001b[49m\u001b[38;5;241;43m.\u001b[39;49m\u001b[43mfit\u001b[49m\u001b[43m(\u001b[49m\u001b[43mtrain_ds\u001b[49m\u001b[43m,\u001b[49m\u001b[43m \u001b[49m\u001b[43mepochs\u001b[49m\u001b[38;5;241;43m=\u001b[39;49m\u001b[38;5;241;43m10\u001b[39;49m\u001b[43m,\u001b[49m\u001b[43m \u001b[49m\u001b[43mvalidation_data\u001b[49m\u001b[38;5;241;43m=\u001b[39;49m\u001b[43mtest_ds\u001b[49m\u001b[43m)\u001b[49m\n",
      "File \u001b[1;32mc:\\Users\\chisa\\miniconda3\\envs\\nomi3\\lib\\site-packages\\keras\\utils\\traceback_utils.py:70\u001b[0m, in \u001b[0;36mfilter_traceback.<locals>.error_handler\u001b[1;34m(*args, **kwargs)\u001b[0m\n\u001b[0;32m     67\u001b[0m     filtered_tb \u001b[38;5;241m=\u001b[39m _process_traceback_frames(e\u001b[38;5;241m.\u001b[39m__traceback__)\n\u001b[0;32m     68\u001b[0m     \u001b[38;5;66;03m# To get the full stack trace, call:\u001b[39;00m\n\u001b[0;32m     69\u001b[0m     \u001b[38;5;66;03m# `tf.debugging.disable_traceback_filtering()`\u001b[39;00m\n\u001b[1;32m---> 70\u001b[0m     \u001b[38;5;28;01mraise\u001b[39;00m e\u001b[38;5;241m.\u001b[39mwith_traceback(filtered_tb) \u001b[38;5;28;01mfrom\u001b[39;00m \u001b[38;5;28mNone\u001b[39m\n\u001b[0;32m     71\u001b[0m \u001b[38;5;28;01mfinally\u001b[39;00m:\n\u001b[0;32m     72\u001b[0m     \u001b[38;5;28;01mdel\u001b[39;00m filtered_tb\n",
      "File \u001b[1;32mc:\\Users\\chisa\\miniconda3\\envs\\nomi3\\lib\\site-packages\\tensorflow\\python\\eager\\execute.py:54\u001b[0m, in \u001b[0;36mquick_execute\u001b[1;34m(op_name, num_outputs, inputs, attrs, ctx, name)\u001b[0m\n\u001b[0;32m     52\u001b[0m \u001b[38;5;28;01mtry\u001b[39;00m:\n\u001b[0;32m     53\u001b[0m   ctx\u001b[38;5;241m.\u001b[39mensure_initialized()\n\u001b[1;32m---> 54\u001b[0m   tensors \u001b[38;5;241m=\u001b[39m pywrap_tfe\u001b[38;5;241m.\u001b[39mTFE_Py_Execute(ctx\u001b[38;5;241m.\u001b[39m_handle, device_name, op_name,\n\u001b[0;32m     55\u001b[0m                                       inputs, attrs, num_outputs)\n\u001b[0;32m     56\u001b[0m \u001b[38;5;28;01mexcept\u001b[39;00m core\u001b[38;5;241m.\u001b[39m_NotOkStatusException \u001b[38;5;28;01mas\u001b[39;00m e:\n\u001b[0;32m     57\u001b[0m   \u001b[38;5;28;01mif\u001b[39;00m name \u001b[38;5;129;01mis\u001b[39;00m \u001b[38;5;129;01mnot\u001b[39;00m \u001b[38;5;28;01mNone\u001b[39;00m:\n",
      "\u001b[1;31mInvalidArgumentError\u001b[0m: Exception encountered when calling layer \"forward_lstm_32\" \"                 f\"(type LSTM).\n\nValue for attr 'T' of int32 is not in the list of allowed values: half, float, double\n\t; NodeDef: {{node CudnnRNN}}; Op<name=CudnnRNN; signature=input:T, input_h:T, input_c:T, params:T -> output:T, output_h:T, output_c:T, reserve_space:T; attr=T:type,allowed=[DT_HALF, DT_FLOAT, DT_DOUBLE]; attr=rnn_mode:string,default=\"lstm\",allowed=[\"rnn_relu\", \"rnn_tanh\", \"lstm\", \"gru\"]; attr=input_mode:string,default=\"linear_input\",allowed=[\"linear_input\", \"skip_input\", \"auto_select\"]; attr=direction:string,default=\"unidirectional\",allowed=[\"unidirectional\", \"bidirectional\"]; attr=dropout:float,default=0; attr=seed:int,default=0; attr=seed2:int,default=0; attr=is_training:bool,default=true; is_stateful=true> [Op:CudnnRNN]\n\nCall arguments received by layer \"forward_lstm_32\" \"                 f\"(type LSTM):\n  • inputs=tf.Tensor(shape=(32, 98, 10), dtype=int32)\n  • mask=None\n  • training=True\n  • initial_state=None"
     ]
    }
   ],
   "source": [
    "history = model.fit(train_ds, epochs=10, validation_data=test_ds)"
   ]
  },
  {
   "cell_type": "code",
   "execution_count": null,
   "metadata": {},
   "outputs": [
    {
     "name": "stdout",
     "output_type": "stream",
     "text": [
      "63/63 [==============================] - 2s 28ms/step - loss: 0.2500 - accuracy: 0.4995\n",
      "Test Loss: 0.25000256299972534\n",
      "Test Accuracy: 0.49949920177459717\n"
     ]
    }
   ],
   "source": [
    "test_loss, test_acc = model.evaluate(test_ds)\n",
    "\n",
    "print('Test Loss:', test_loss)\n",
    "print('Test Accuracy:', test_acc)"
   ]
  },
  {
   "cell_type": "code",
   "execution_count": null,
   "metadata": {},
   "outputs": [
    {
     "data": {
      "text/plain": [
       "(0.0, 0.2500986307859421)"
      ]
     },
     "execution_count": 63,
     "metadata": {},
     "output_type": "execute_result"
    },
    {
     "data": {
      "image/png": "[encoded data removed]",
      "text/plain": [
       "<Figure size 1600x800 with 2 Axes>"
      ]
     },
     "metadata": {},
     "output_type": "display_data"
    }
   ],
   "source": [
    "import matplotlib.pyplot as plt\n",
    "\n",
    "def plot_graphs(history, metric):\n",
    "  plt.plot(history.history[metric])\n",
    "  plt.plot(history.history['val_'+metric], '')\n",
    "  plt.xlabel(\"Epochs\")\n",
    "  plt.ylabel(metric)\n",
    "  plt.legend([metric, 'val_'+metric])\n",
    "\n",
    "plt.figure(figsize=(16, 8))\n",
    "plt.subplot(1, 2, 1)\n",
    "plot_graphs(history, 'accuracy')\n",
    "plt.ylim(None, 1)\n",
    "plt.subplot(1, 2, 2)\n",
    "plot_graphs(history, 'loss')\n",
    "plt.ylim(0, None)"
   ]
  }
 ],
 "metadata": {
  "kernelspec": {
   "display_name": "nomi3",
   "language": "python",
   "name": "python3"
  },
  "language_info": {
   "codemirror_mode": {
    "name": "ipython",
    "version": 3
   },
   "file_extension": ".py",
   "mimetype": "text/x-python",
   "name": "python",
   "nbconvert_exporter": "python",
   "pygments_lexer": "ipython3",
   "version": "3.10.12"
  }
 },
 "nbformat": 4,
 "nbformat_minor": 2
}
